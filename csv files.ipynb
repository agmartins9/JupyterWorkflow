{
 "cells": [
  {
   "cell_type": "markdown",
   "metadata": {},
   "source": [
    "# Reading CSV File"
   ]
  },
  {
   "cell_type": "code",
   "execution_count": 1,
   "metadata": {},
   "outputs": [
    {
     "name": "stdout",
     "output_type": "stream",
     "text": [
      "Requirement already satisfied: pandas in /opt/conda/lib/python3.7/site-packages (1.0.3)\n",
      "Requirement already satisfied: matplotlib in /opt/conda/lib/python3.7/site-packages (3.2.1)\n",
      "Requirement already satisfied: numpy>=1.13.3 in /opt/conda/lib/python3.7/site-packages (from pandas) (1.18.4)\n",
      "Requirement already satisfied: python-dateutil>=2.6.1 in /opt/conda/lib/python3.7/site-packages (from pandas) (2.8.1)\n",
      "Requirement already satisfied: pytz>=2017.2 in /opt/conda/lib/python3.7/site-packages (from pandas) (2020.1)\n",
      "Requirement already satisfied: cycler>=0.10 in /opt/conda/lib/python3.7/site-packages (from matplotlib) (0.10.0)\n",
      "Requirement already satisfied: pyparsing!=2.0.4,!=2.1.2,!=2.1.6,>=2.0.1 in /opt/conda/lib/python3.7/site-packages (from matplotlib) (2.4.7)\n",
      "Requirement already satisfied: kiwisolver>=1.0.1 in /opt/conda/lib/python3.7/site-packages (from matplotlib) (1.2.0)\n",
      "Requirement already satisfied: six>=1.5 in /opt/conda/lib/python3.7/site-packages (from python-dateutil>=2.6.1->pandas) (1.14.0)\n"
     ]
    }
   ],
   "source": [
    "# Install a pip package in the current Jupyter kernel\n",
    "import sys\n",
    "!{sys.executable} -m pip install pandas matplotlib"
   ]
  },
  {
   "cell_type": "code",
   "execution_count": 2,
   "metadata": {},
   "outputs": [],
   "source": [
    "from pyspark import SparkContext\n",
    "from pyspark.sql import SQLContext\n",
    "from pyspark.sql.functions import explode, col\n",
    "\n",
    "\n",
    "sc = SparkContext('local', 'Spark SQL') \n",
    "spark = SQLContext(sc)"
   ]
  },
  {
   "cell_type": "code",
   "execution_count": 3,
   "metadata": {},
   "outputs": [],
   "source": [
    "df = (spark.read\n",
    "            .option(\"header\", \"true\")\n",
    "            .option(\"delimiter\", \";\")\n",
    "            .option(\"mode\", \"DROPMALFORMED\")\n",
    "            .option(\"inferschema\", \"true\")\n",
    "            .option(\"encoding\", \"ISO-8859-1\")\n",
    "            .csv(\"2019-2-semestre.csv\"))"
   ]
  },
  {
   "cell_type": "code",
   "execution_count": 4,
   "metadata": {},
   "outputs": [
    {
     "name": "stdout",
     "output_type": "stream",
     "text": [
      "root\n",
      " |-- Região: string (nullable = true)\n",
      " |-- UF: string (nullable = true)\n",
      " |-- Cidade: string (nullable = true)\n",
      " |-- Sexo: string (nullable = true)\n",
      " |-- Faixa Etária: string (nullable = true)\n",
      " |-- Data Finalização: string (nullable = true)\n",
      " |-- Tempo Resposta: integer (nullable = true)\n",
      " |-- Nome Fantasia: string (nullable = true)\n",
      " |-- Segmento de Mercado: string (nullable = true)\n",
      " |-- Área: string (nullable = true)\n",
      " |-- Assunto: string (nullable = true)\n",
      " |-- Grupo Problema: string (nullable = true)\n",
      " |-- Problema: string (nullable = true)\n",
      " |-- Como Comprou Contratou: string (nullable = true)\n",
      " |-- Procurou Empresa: string (nullable = true)\n",
      " |-- Respondida: string (nullable = true)\n",
      " |-- Situação: string (nullable = true)\n",
      " |-- Avaliação Reclamação: string (nullable = true)\n",
      " |-- Nota do Consumidor: integer (nullable = true)\n",
      " |-- Total: integer (nullable = true)\n",
      "\n"
     ]
    }
   ],
   "source": [
    "df.printSchema()"
   ]
  },
  {
   "cell_type": "code",
   "execution_count": 5,
   "metadata": {},
   "outputs": [
    {
     "name": "stdout",
     "output_type": "stream",
     "text": [
      "+------+---+--------------+----+------------------+----------------+--------------+-----------------------+-----------------------------------------------------------------------+-----------------------------------+--------------------------------------------------------+----------------------+----------------------------------------------------------------------------------+-----------------------+----------------+----------+-----------------------+--------------------+------------------+-----+\n",
      "|Região|UF |Cidade        |Sexo|Faixa Etária      |Data Finalização|Tempo Resposta|Nome Fantasia          |Segmento de Mercado                                                    |Área                               |Assunto                                                 |Grupo Problema        |Problema                                                                          |Como Comprou Contratou |Procurou Empresa|Respondida|Situação               |Avaliação Reclamação|Nota do Consumidor|Total|\n",
      "+------+---+--------------+----+------------------+----------------+--------------+-----------------------+-----------------------------------------------------------------------+-----------------------------------+--------------------------------------------------------+----------------------+----------------------------------------------------------------------------------+-----------------------+----------------+----------+-----------------------+--------------------+------------------+-----+\n",
      "|NE    |PE |Petrolina     |M   |entre 31 a 40 anos|05/07/2019      |10            |Banco Bradesco         |Bancos, Financeiras e Administradoras de Cartão                        |Serviços Financeiros               |Conta corrente / Salário / Poupança /Conta Aposentadoria|Cobrança / Contestação|Cobrança submetendo a ofensa, constrangimento ou ameaça                           |Domicílio              |S               |S         |Finalizada não avaliada|Não Avaliada        |null              |1    |\n",
      "|SE    |SP |São Carlos    |F   |entre 51 a 60 anos|03/07/2019      |null          |Azul Linhas Aéreas     |Transporte Aéreo                                                       |Transportes                        |Cargas e Encomendas                                     |Vício de Qualidade    |Extravio/ avaria de bagagem, carga, correspondência (ressarcimento, indenizações) |Loja física            |S               |N         |Finalizada não avaliada|Não Avaliada        |null              |1    |\n",
      "|SE    |SP |São Paulo     |M   |entre 31 a 40 anos|03/07/2019      |null          |Samsung                |Fabricantes - Eletroeletrônicos,  Produtos de Telefonia e Informática  |Produtos de Telefonia e Informática|Aparelho celular                                        |Entrega do Produto    |Produto entregue incompleto / diferente do  pedido                                |Ganhei de presente     |S               |N         |Finalizada não avaliada|Não Avaliada        |null              |1    |\n",
      "|SE    |RJ |Rio de Janeiro|F   |entre 61 a 70 anos|02/07/2019      |10            |Tim                    |Operadoras de Telecomunicações (Telefonia, Internet, TV por assinatura)|Produtos de Telefonia e Informática|Aparelho celular                                        |Contrato / Oferta     |Oferta não cumprida / serviço não fornecido/ venda enganosa / publicidade enganosa|Internet               |S               |S         |Finalizada não avaliada|Não Avaliada        |null              |1    |\n",
      "|NE    |PE |Recife        |M   |entre 21 a 30 anos|04/07/2019      |10            |Vivo - Telefônica (GVT)|Operadoras de Telecomunicações (Telefonia, Internet, TV por assinatura)|Telecomunicações                   |Internet Fixa                                           |Vício de Qualidade    |Suspensão ou desligamento indevido do serviço                                     |Não comprei / contratei|S               |S         |Finalizada avaliada    |Não Resolvida       |1                 |1    |\n",
      "+------+---+--------------+----+------------------+----------------+--------------+-----------------------+-----------------------------------------------------------------------+-----------------------------------+--------------------------------------------------------+----------------------+----------------------------------------------------------------------------------+-----------------------+----------------+----------+-----------------------+--------------------+------------------+-----+\n",
      "only showing top 5 rows\n",
      "\n"
     ]
    }
   ],
   "source": [
    "df.show(5, False)"
   ]
  },
  {
   "cell_type": "code",
   "execution_count": 6,
   "metadata": {},
   "outputs": [],
   "source": [
    "df.registerTempTable(\"consumidor\")"
   ]
  },
  {
   "cell_type": "code",
   "execution_count": 7,
   "metadata": {},
   "outputs": [
    {
     "name": "stdout",
     "output_type": "stream",
     "text": [
      "+------+--------+\n",
      "|Região|count(1)|\n",
      "+------+--------+\n",
      "|    NE|   75340|\n",
      "|    S |   89456|\n",
      "|    SE|  196927|\n",
      "|    N |   14869|\n",
      "|    CO|   46799|\n",
      "+------+--------+\n",
      "\n"
     ]
    }
   ],
   "source": [
    "spark.sql(\"\"\"\n",
    "select `Região`, count(*) \n",
    "from consumidor\n",
    "group by `Região`\n",
    "\"\"\").show()"
   ]
  },
  {
   "cell_type": "code",
   "execution_count": 11,
   "metadata": {},
   "outputs": [
    {
     "data": {
      "text/html": [
       "<div>\n",
       "<style scoped>\n",
       "    .dataframe tbody tr th:only-of-type {\n",
       "        vertical-align: middle;\n",
       "    }\n",
       "\n",
       "    .dataframe tbody tr th {\n",
       "        vertical-align: top;\n",
       "    }\n",
       "\n",
       "    .dataframe thead th {\n",
       "        text-align: right;\n",
       "    }\n",
       "</style>\n",
       "<table border=\"1\" class=\"dataframe\">\n",
       "  <thead>\n",
       "    <tr style=\"text-align: right;\">\n",
       "      <th></th>\n",
       "      <th>Região</th>\n",
       "      <th>UF</th>\n",
       "      <th>Cidade</th>\n",
       "      <th>Sexo</th>\n",
       "      <th>Faixa Etária</th>\n",
       "      <th>Data Finalização</th>\n",
       "      <th>Tempo Resposta</th>\n",
       "      <th>Nome Fantasia</th>\n",
       "      <th>Segmento de Mercado</th>\n",
       "      <th>Área</th>\n",
       "      <th>Assunto</th>\n",
       "      <th>Grupo Problema</th>\n",
       "      <th>Problema</th>\n",
       "      <th>Como Comprou Contratou</th>\n",
       "      <th>Procurou Empresa</th>\n",
       "      <th>Respondida</th>\n",
       "      <th>Situação</th>\n",
       "      <th>Avaliação Reclamação</th>\n",
       "      <th>Nota do Consumidor</th>\n",
       "      <th>Total</th>\n",
       "    </tr>\n",
       "  </thead>\n",
       "  <tbody>\n",
       "    <tr>\n",
       "      <th>0</th>\n",
       "      <td>NE</td>\n",
       "      <td>PE</td>\n",
       "      <td>Petrolina</td>\n",
       "      <td>M</td>\n",
       "      <td>entre 31 a 40 anos</td>\n",
       "      <td>05/07/2019</td>\n",
       "      <td>10.0</td>\n",
       "      <td>Banco Bradesco</td>\n",
       "      <td>Bancos, Financeiras e Administradoras de Cartão</td>\n",
       "      <td>Serviços Financeiros</td>\n",
       "      <td>Conta corrente / Salário / Poupança /Conta Apo...</td>\n",
       "      <td>Cobrança / Contestação</td>\n",
       "      <td>Cobrança submetendo a ofensa, constrangimento ...</td>\n",
       "      <td>Domicílio</td>\n",
       "      <td>S</td>\n",
       "      <td>S</td>\n",
       "      <td>Finalizada não avaliada</td>\n",
       "      <td>Não Avaliada</td>\n",
       "      <td>NaN</td>\n",
       "      <td>1</td>\n",
       "    </tr>\n",
       "    <tr>\n",
       "      <th>1</th>\n",
       "      <td>SE</td>\n",
       "      <td>SP</td>\n",
       "      <td>São Carlos</td>\n",
       "      <td>F</td>\n",
       "      <td>entre 51 a 60 anos</td>\n",
       "      <td>03/07/2019</td>\n",
       "      <td>NaN</td>\n",
       "      <td>Azul Linhas Aéreas</td>\n",
       "      <td>Transporte Aéreo</td>\n",
       "      <td>Transportes</td>\n",
       "      <td>Cargas e Encomendas</td>\n",
       "      <td>Vício de Qualidade</td>\n",
       "      <td>Extravio/ avaria de bagagem, carga, correspond...</td>\n",
       "      <td>Loja física</td>\n",
       "      <td>S</td>\n",
       "      <td>N</td>\n",
       "      <td>Finalizada não avaliada</td>\n",
       "      <td>Não Avaliada</td>\n",
       "      <td>NaN</td>\n",
       "      <td>1</td>\n",
       "    </tr>\n",
       "    <tr>\n",
       "      <th>2</th>\n",
       "      <td>SE</td>\n",
       "      <td>SP</td>\n",
       "      <td>São Paulo</td>\n",
       "      <td>M</td>\n",
       "      <td>entre 31 a 40 anos</td>\n",
       "      <td>03/07/2019</td>\n",
       "      <td>NaN</td>\n",
       "      <td>Samsung</td>\n",
       "      <td>Fabricantes - Eletroeletrônicos,  Produtos de ...</td>\n",
       "      <td>Produtos de Telefonia e Informática</td>\n",
       "      <td>Aparelho celular</td>\n",
       "      <td>Entrega do Produto</td>\n",
       "      <td>Produto entregue incompleto / diferente do  pe...</td>\n",
       "      <td>Ganhei de presente</td>\n",
       "      <td>S</td>\n",
       "      <td>N</td>\n",
       "      <td>Finalizada não avaliada</td>\n",
       "      <td>Não Avaliada</td>\n",
       "      <td>NaN</td>\n",
       "      <td>1</td>\n",
       "    </tr>\n",
       "    <tr>\n",
       "      <th>3</th>\n",
       "      <td>SE</td>\n",
       "      <td>RJ</td>\n",
       "      <td>Rio de Janeiro</td>\n",
       "      <td>F</td>\n",
       "      <td>entre 61 a 70 anos</td>\n",
       "      <td>02/07/2019</td>\n",
       "      <td>10.0</td>\n",
       "      <td>Tim</td>\n",
       "      <td>Operadoras de Telecomunicações (Telefonia, Int...</td>\n",
       "      <td>Produtos de Telefonia e Informática</td>\n",
       "      <td>Aparelho celular</td>\n",
       "      <td>Contrato / Oferta</td>\n",
       "      <td>Oferta não cumprida / serviço não fornecido/ v...</td>\n",
       "      <td>Internet</td>\n",
       "      <td>S</td>\n",
       "      <td>S</td>\n",
       "      <td>Finalizada não avaliada</td>\n",
       "      <td>Não Avaliada</td>\n",
       "      <td>NaN</td>\n",
       "      <td>1</td>\n",
       "    </tr>\n",
       "    <tr>\n",
       "      <th>4</th>\n",
       "      <td>NE</td>\n",
       "      <td>PE</td>\n",
       "      <td>Recife</td>\n",
       "      <td>M</td>\n",
       "      <td>entre 21 a 30 anos</td>\n",
       "      <td>04/07/2019</td>\n",
       "      <td>10.0</td>\n",
       "      <td>Vivo - Telefônica (GVT)</td>\n",
       "      <td>Operadoras de Telecomunicações (Telefonia, Int...</td>\n",
       "      <td>Telecomunicações</td>\n",
       "      <td>Internet Fixa</td>\n",
       "      <td>Vício de Qualidade</td>\n",
       "      <td>Suspensão ou desligamento indevido do serviço</td>\n",
       "      <td>Não comprei / contratei</td>\n",
       "      <td>S</td>\n",
       "      <td>S</td>\n",
       "      <td>Finalizada avaliada</td>\n",
       "      <td>Não Resolvida</td>\n",
       "      <td>1.0</td>\n",
       "      <td>1</td>\n",
       "    </tr>\n",
       "  </tbody>\n",
       "</table>\n",
       "</div>"
      ],
      "text/plain": [
       "  Região  UF          Cidade Sexo        Faixa Etária Data Finalização  \\\n",
       "0     NE  PE       Petrolina    M  entre 31 a 40 anos       05/07/2019   \n",
       "1     SE  SP      São Carlos    F  entre 51 a 60 anos       03/07/2019   \n",
       "2     SE  SP       São Paulo    M  entre 31 a 40 anos       03/07/2019   \n",
       "3     SE  RJ  Rio de Janeiro    F  entre 61 a 70 anos       02/07/2019   \n",
       "4     NE  PE          Recife    M  entre 21 a 30 anos       04/07/2019   \n",
       "\n",
       "   Tempo Resposta            Nome Fantasia  \\\n",
       "0            10.0           Banco Bradesco   \n",
       "1             NaN       Azul Linhas Aéreas   \n",
       "2             NaN                  Samsung   \n",
       "3            10.0                      Tim   \n",
       "4            10.0  Vivo - Telefônica (GVT)   \n",
       "\n",
       "                                 Segmento de Mercado  \\\n",
       "0    Bancos, Financeiras e Administradoras de Cartão   \n",
       "1                                   Transporte Aéreo   \n",
       "2  Fabricantes - Eletroeletrônicos,  Produtos de ...   \n",
       "3  Operadoras de Telecomunicações (Telefonia, Int...   \n",
       "4  Operadoras de Telecomunicações (Telefonia, Int...   \n",
       "\n",
       "                                  Área  \\\n",
       "0                 Serviços Financeiros   \n",
       "1                          Transportes   \n",
       "2  Produtos de Telefonia e Informática   \n",
       "3  Produtos de Telefonia e Informática   \n",
       "4                     Telecomunicações   \n",
       "\n",
       "                                             Assunto          Grupo Problema  \\\n",
       "0  Conta corrente / Salário / Poupança /Conta Apo...  Cobrança / Contestação   \n",
       "1                                Cargas e Encomendas      Vício de Qualidade   \n",
       "2                                   Aparelho celular      Entrega do Produto   \n",
       "3                                   Aparelho celular       Contrato / Oferta   \n",
       "4                                      Internet Fixa      Vício de Qualidade   \n",
       "\n",
       "                                            Problema   Como Comprou Contratou  \\\n",
       "0  Cobrança submetendo a ofensa, constrangimento ...                Domicílio   \n",
       "1  Extravio/ avaria de bagagem, carga, correspond...              Loja física   \n",
       "2  Produto entregue incompleto / diferente do  pe...       Ganhei de presente   \n",
       "3  Oferta não cumprida / serviço não fornecido/ v...                 Internet   \n",
       "4      Suspensão ou desligamento indevido do serviço  Não comprei / contratei   \n",
       "\n",
       "  Procurou Empresa Respondida                 Situação Avaliação Reclamação  \\\n",
       "0                S          S  Finalizada não avaliada         Não Avaliada   \n",
       "1                S          N  Finalizada não avaliada         Não Avaliada   \n",
       "2                S          N  Finalizada não avaliada         Não Avaliada   \n",
       "3                S          S  Finalizada não avaliada         Não Avaliada   \n",
       "4                S          S      Finalizada avaliada        Não Resolvida   \n",
       "\n",
       "   Nota do Consumidor  Total  \n",
       "0                 NaN      1  \n",
       "1                 NaN      1  \n",
       "2                 NaN      1  \n",
       "3                 NaN      1  \n",
       "4                 1.0      1  "
      ]
     },
     "execution_count": 11,
     "metadata": {},
     "output_type": "execute_result"
    }
   ],
   "source": [
    "df.limit(5).toPandas()"
   ]
  },
  {
   "cell_type": "code",
   "execution_count": null,
   "metadata": {},
   "outputs": [],
   "source": []
  },
  {
   "cell_type": "code",
   "execution_count": 13,
   "metadata": {},
   "outputs": [],
   "source": [
    "from pyspark.sql import functions as F\n",
    "from pyspark.sql.types import FloatType"
   ]
  },
  {
   "cell_type": "code",
   "execution_count": null,
   "metadata": {},
   "outputs": [],
   "source": [
    "def to_value(v):\n",
    "    try:\n",
    "        return float(v.replace(\",\",\".\"))"
   ]
  }
 ],
 "metadata": {
  "kernelspec": {
   "display_name": "Python 3",
   "language": "python",
   "name": "python3"
  },
  "language_info": {
   "codemirror_mode": {
    "name": "ipython",
    "version": 3
   },
   "file_extension": ".py",
   "mimetype": "text/x-python",
   "name": "python",
   "nbconvert_exporter": "python",
   "pygments_lexer": "ipython3",
   "version": "3.7.6"
  }
 },
 "nbformat": 4,
 "nbformat_minor": 4
}
