{
 "cells": [
  {
   "cell_type": "code",
   "execution_count": 1,
   "metadata": {},
   "outputs": [],
   "source": [
    "from os import environ\n",
    "environ['PYSPARK_SUBMIT_ARGS'] = '--packages com.databricks:spark-xml_2.10:0.4.1 pyspark-shell' "
   ]
  },
  {
   "cell_type": "code",
   "execution_count": 2,
   "metadata": {},
   "outputs": [],
   "source": [
    "from pyspark import SparkContext\n",
    "from pyspark.sql import SQLContext\n",
    "from pyspark.sql.functions import explode, col\n",
    "\n",
    "\n",
    "sc = SparkContext('local', 'Spark SQL') \n",
    "spark = SQLContext(sc)"
   ]
  },
  {
   "cell_type": "code",
   "execution_count": 3,
   "metadata": {},
   "outputs": [
    {
     "name": "stdout",
     "output_type": "stream",
     "text": [
      "root\n",
      " |-- crse: double (nullable = true)\n",
      " |-- days: string (nullable = true)\n",
      " |-- instructor: string (nullable = true)\n",
      " |-- place: struct (nullable = true)\n",
      " |    |-- building: string (nullable = true)\n",
      " |    |-- room: string (nullable = true)\n",
      " |-- reg_num: double (nullable = true)\n",
      " |-- sect: string (nullable = true)\n",
      " |-- subj: string (nullable = true)\n",
      " |-- time: struct (nullable = true)\n",
      " |    |-- end_time: string (nullable = true)\n",
      " |    |-- start_time: string (nullable = true)\n",
      " |-- title: string (nullable = true)\n",
      " |-- units: double (nullable = true)\n",
      " |-- xml_repository: string (nullable = true)\n",
      "\n"
     ]
    }
   ],
   "source": [
    "df = spark.read.format('com.databricks.spark.xml').options(rootTag='root').options(rowTag='course').load('reed_pv.xml')\n",
    " \n",
    "df.printSchema()"
   ]
  },
  {
   "cell_type": "code",
   "execution_count": 4,
   "metadata": {},
   "outputs": [],
   "source": [
    "df.registerTempTable(\"XMLTABLE\")"
   ]
  },
  {
   "cell_type": "code",
   "execution_count": 41,
   "metadata": {},
   "outputs": [
    {
     "name": "stdout",
     "output_type": "stream",
     "text": [
      "+-----+--------+\n",
      "|crse |building|\n",
      "+-----+--------+\n",
      "|211.0|\n",
      "ELIOT  |\n",
      "|344.0|\n",
      "VOLLUM |\n",
      "|431.0|\n",
      "PHYSIC |\n",
      "|431.0|\n",
      "       |\n",
      "|431.0|\n",
      "BIOL   |\n",
      "+-----+--------+\n",
      "only showing top 5 rows\n",
      "\n"
     ]
    }
   ],
   "source": [
    "spark.sql(\"select crse, place.building from XMLTABLE\").show(5, False)"
   ]
  },
  {
   "cell_type": "code",
   "execution_count": 55,
   "metadata": {},
   "outputs": [],
   "source": [
    "df = spark.sql(\"\"\"\n",
    "select\n",
    "replace(replace(crse, chr(10)),chr(20)) crse,\n",
    "replace(replace(days, chr(10)),chr(20)) days,\n",
    "replace(replace(instructor, chr(10)),chr(20)) instructor,\n",
    "replace(replace(place.building, chr(10)),chr(20)) place_building, \n",
    "rtrim(replace(replace(place.room, chr(10)),chr(20))) place_room,\n",
    "rtrim(replace(replace(reg_num, chr(10)),chr(20))) reg_num,\n",
    "replace(replace(sect, chr(10)),chr(20)) sect,\n",
    "replace(replace(subj, chr(10)),chr(20)) subj,\n",
    "replace(replace(time.start_time, chr(10)),chr(20)) time_start_time,\n",
    "replace(replace(time.end_time, chr(10)),chr(20)) time_end_time,\n",
    "replace(replace(title, chr(10)),chr(20)) title,\n",
    "replace(replace(units, chr(10)),chr(20)) units,\n",
    "replace(replace(xml_repository, chr(10)),chr(20)) xml_repository\n",
    "from XMLTABLE \n",
    "\"\"\")"
   ]
  },
  {
   "cell_type": "code",
   "execution_count": 56,
   "metadata": {},
   "outputs": [
    {
     "name": "stdout",
     "output_type": "stream",
     "text": [
      "+-----+-----+-----------+--------------+---------------------------------------------+-------+----+----+---------------+-------------+---------------------------------+-----+------------------------------------------------+\n",
      "|crse |days |instructor |place_building|place_room                                   |reg_num|sect|subj|time_start_time|time_end_time|title                            |units|xml_repository                                  |\n",
      "+-----+-----+-----------+--------------+---------------------------------------------+-------+----+----+---------------+-------------+---------------------------------+-----+------------------------------------------------+\n",
      "|211.0|M-W  |Brightman  |ELIOT         |414                                          |10577.0|F01 |ANTH|03:10PM        |04:30        |Introduction to Anthropology     |1.0  |null                                            |\n",
      "|344.0|T-Th |Makley     |VOLLUM        |120                                          |20573.0|S01 |ANTH|10:30AM        |11:50        |Sex and Gender                   |1.0  |null                                            |\n",
      "|431.0|T    |Kaplan     |PHYSIC        |240A                                         |10624.0|F01 |BIOL|06:10PM        |08:00        |Field Biology of Amphibians      |0.5  |null                                            |\n",
      "|431.0|     |           |              |Mellies         RESCHEDULED TO OTHER SEMESTER|10626.0|F03 |BIOL|               |             |Bacterial Pathogenesis           |0.5  |null                                            |\n",
      "|431.0|Th   |Yezerinac  |BIOL          |200A                                         |20626.0|S04 |BIOL|06:10PM        |08:00        |Seminar in Biology               |0.5  |null                                            |\n",
      "|101.0|M-W-F|Geselbracht|VOLLUM        |VLH                                          |10543.0|F   |CHEM|11:00AM        |11:50        |MolecularStructure and Properties|1.0  |null                                            |\n",
      "|101.0|M    |Geselbracht|CHEM          |301                                          |10544.0|F01 |CHEM|01:10PM        |02:00        |MolecularStructure and Properties|0.0  |null                                            |\n",
      "|101.0|M    |Geselbracht|CHEM          |301                                          |10545.0|F02 |CHEM|02:10PM        |03:00        |MolecularStructure and Properties|0.0  |null                                            |\n",
      "|101.0|M    |Geselbracht|CHEM          |301                                          |10546.0|F03 |CHEM|03:10PM        |04:00        |MolecularStructure and Properties|0.0  |null                                            |\n",
      "|101.0|T    |Geselbracht|PHYSIC        |123                                          |10789.0|F08 |CHEM|11:00AM        |11:50        |MolecularStructure and Properties|0.0  |null                                            |\n",
      "|101.0|T    |Geselbracht|CHEM          |301                                          |10547.0|F04 |CHEM|01:10PM        |02:00        |MolecularStructure and Properties|0.0  |null                                            |\n",
      "|101.0|T    |Geselbracht|CHEM          |301                                          |10548.0|F05 |CHEM|02:10PM        |03:00        |MolecularStructure and Properties|0.0  |null                                            |\n",
      "|344.0|T-Th |Makley     |VOLLUM        |110                                          |20575.0|S02 |ANTH|01:10PM        |02:30        |Sex and Gender                   |1.0  |null                                            |\n",
      "|101.0|T    |Geselbracht|CHEM          |301                                          |10549.0|F06 |CHEM|03:10PM        |04:00        |MolecularStructure and Properties|0.0  |null                                            |\n",
      "|101.0|T    |Geselbracht|CHEM          |301                                          |10550.0|F07 |CHEM|04:10PM        |05:00        |MolecularStructure and Properties|0.0  |null                                            |\n",
      "|101.0|M    |Geselbracht|CHEM          |308                                          |10551.0|FL1 |CHEM|01:10PM        |04:00        |MolecularStructure and Properties|0.0  |null                                            |\n",
      "|101.0|T    |Geselbracht|CHEM          |308                                          |10555.0|FL5 |CHEM|09:00AM        |11:50        |MolecularStructure and Properties|0.0  |null                                            |\n",
      "|101.0|T    |Geselbracht|CHEM          |308                                          |10552.0|FL2 |CHEM|01:10PM        |04:00        |MolecularStructure and Properties|0.0  |null                                            |\n",
      "|101.0|W    |Geselbracht|CHEM          |308                                          |10553.0|FL3 |CHEM|01:10PM        |04:00        |MolecularStructure and Properties|0.0  |null                                            |\n",
      "|101.0|W    |Geselbracht|CHEM          |308                                          |10557.0|FL7 |CHEM|06:10PM        |09:00        |MolecularStructure and Properties|0.0  |null                                            |\n",
      "|101.0|Th   |Geselbracht|CHEM          |308                                          |10556.0|FL6 |CHEM|09:00AM        |11:50        |MolecularStructure and Properties|0.0  |null                                            |\n",
      "|101.0|Th   |Geselbracht|CHEM          |308                                          |10554.0|FL4 |CHEM|01:10PM        |04:00        |MolecularStructure and Properties|0.0  |null                                            |\n",
      "|101.0|F    |Geselbracht|CHEM          |308                                          |10558.0|FL8 |CHEM|02:10PM        |05:00        |MolecularStructure and Properties|0.0  |null                                            |\n",
      "|348.0|T    |Haviland   |ELIOT         |419                                          |20483.0|S   |ANTH|06:10PM        |09:00        |Languages the Americas:Mayan     |1.0  |null                                            |\n",
      "|102.0|M-W-F|Glasfeld   |VOLLUM        |VLH                                          |20537.0|S   |CHEM|11:00AM        |11:50        |Chemical Reactivity              |1.0  |null                                            |\n",
      "|102.0|M    |Glasfeld   |CHEM          |301                                          |20538.0|S01 |CHEM|02:10PM        |03:00        |Chemical Reactivity              |0.0  |null                                            |\n",
      "|102.0|M    |Glasfeld   |CHEM          |301                                          |20539.0|S02 |CHEM|03:10PM        |04:00        |Chemical Reactivity              |0.0  |null                                            |\n",
      "|102.0|T    |Glasfeld   |CHEM          |301                                          |20540.0|S03 |CHEM|02:10PM        |03:00        |Chemical Reactivity              |0.0  |null                                            |\n",
      "|102.0|T    |Glasfeld   |CHEM          |301                                          |20541.0|S04 |CHEM|03:10PM        |04:00        |Chemical Reactivity              |0.0  |null                                            |\n",
      "|102.0|T    |Glasfeld   |PHYSIC        |123                                          |20542.0|S05 |CHEM|04:10PM        |05:00        |Chemical Reactivity              |0.0  |null                                            |\n",
      "|102.0|M    |Glasfeld   |CHEM          |308                                          |20543.0|SL1 |CHEM|01:10PM        |04:00        |Chemical Reactivity              |0.0  |null                                            |\n",
      "|102.0|T    |Glasfeld   |CHEM          |308                                          |20544.0|SL2 |CHEM|01:10PM        |04:00        |Chemical Reactivity              |0.0  |null                                            |\n",
      "|102.0|W    |Glasfeld   |CHEM          |308                                          |20545.0|SL3 |CHEM|01:10PM        |04:00        |Chemical Reactivity              |0.0  |null                                            |\n",
      "|102.0|Th   |Glasfeld   |CHEM          |308                                          |20546.0|SL4 |CHEM|01:10PM        |04:00        |Chemical Reactivity              |0.0  |null                                            |\n",
      "|352.0|T-Th |Silverstein|LIB           |203                                          |20667.0|S   |ANTH|10:30AM        |11:50        |Anthropology of Europe           |1.0  |null                                            |\n",
      "|102.0|F    |Glasfeld   |CHEM          |308                                          |20547.0|SL5 |CHEM|02:10PM        |05:00        |Chemical Reactivity              |0.0  |null                                            |\n",
      "|201.0|M-W-F|Shusterman |PSYCH         |105                                          |10559.0|F   |CHEM|09:00AM        |09:50        |Organic Chemistry I              |1.0  |null                                            |\n",
      "|201.0|Th   |Shusterman |PHYSIC        |123                                          |10560.0|F01 |CHEM|08:00AM        |08:50        |Organic Chemistry I              |0.0  |null                                            |\n",
      "|201.0|Th   |Shusterman |PHYSIC        |121                                          |10561.0|F02 |CHEM|09:00AM        |09:50        |Organic Chemistry I              |0.0  |null                                            |\n",
      "|201.0|Th   |Shusterman |PHYSIC        |123                                          |10562.0|F03 |CHEM|11:00AM        |11:50        |Organic Chemistry I              |0.0  |null                                            |\n",
      "|201.0|Th   |Shusterman |PHYSIC        |123                                          |10563.0|F04 |CHEM|12:00PM        |12:50        |Organic Chemistry I              |0.0  |null                                            |\n",
      "|201.0|M    |Shusterman |CHEM          |209                                          |10565.0|FL1 |CHEM|01:10PM        |05:00        |Organic Chemistry I              |0.0  |null                                            |\n",
      "|201.0|T    |Shusterman |CHEM          |209                                          |10566.0|FL2 |CHEM|01:10PM        |05:00        |Organic Chemistry I              |0.0  |null                                            |\n",
      "|201.0|W    |Shusterman |CHEM          |209                                          |10567.0|FL3 |CHEM|01:10PM        |05:00        |Organic Chemistry I              |0.0  |null                                            |\n",
      "|202.0|M-W-F|McDougal   |PSYCH         |105                                          |20548.0|S   |CHEM|09:00AM        |09:50        |Organic Chemistry II             |1.0  |null                                            |\n",
      "|357.0|T-Th |Stasch     |VOLLUM        |309                                          |20571.0|S   |ANTH|02:40PM        |04:00        |Prob in IndonesianEthnography    |1.0  |null                                            |\n",
      "|202.0|Th   |McDougal   |PHYSIC        |123                                          |20549.0|S01 |CHEM|08:00AM        |08:50        |Organic Chemistry II             |0.0  |null                                            |\n",
      "|202.0|Th   |McDougal   |PHYSIC        |121                                          |20550.0|S02 |CHEM|09:00AM        |09:50        |Organic Chemistry II             |0.0  |null                                            |\n",
      "|202.0|Th   |McDougal   |PHYSIC        |121                                          |20551.0|S03 |CHEM|11:00AM        |11:50        |Organic Chemistry II             |0.0  |null                                            |\n",
      "|202.0|Th   |McDougal   |PHYSIC        |123                                          |20552.0|S04 |CHEM|12:00PM        |12:50        |Organic Chemistry II             |0.0  |null                                            |\n",
      "|202.0|M    |McDougal   |CHEM          |209                                          |20554.0|SL1 |CHEM|01:10PM        |05:00        |Organic Chemistry II             |0.0  |null                                            |\n",
      "|202.0|T    |McDougal   |CHEM          |209                                          |20555.0|SL2 |CHEM|01:10PM        |05:00        |Organic Chemistry II             |0.0  |null                                            |\n",
      "|202.0|W    |McDougal   |CHEM          |209                                          |20556.0|SL3 |CHEM|01:10PM        |05:00        |Organic Chemistry II             |0.0  |null                                            |\n",
      "|212.0|M-W-F|Geselbracht|CHEM          |301                                          |20557.0|S   |CHEM|11:00AM        |11:50        |Intro Inorganic Chemistry        |1.0  |null                                            |\n",
      "|212.0|W    |Geselbracht|CHEM          |214                                          |20559.0|SL1 |CHEM|02:10PM        |05:00        |Intro Inorganic Chemistry        |0.0  |null                                            |\n",
      "|212.0|F    |Geselbracht|CHEM          |214                                          |20560.0|SL2 |CHEM|02:10PM        |05:00        |Intro Inorganic Chemistry        |0.0  |null                                            |\n",
      "|362.0|T-Th |Makley     |VOLLUM        |228                                          |10605.0|F   |ANTH|10:30AM        |11:50        |Gender and Ethnicity China, Tibet|1.0  |null                                            |\n",
      "|225.0|M-W  |Dunne      |CHEM          |301                                          |10582.0|F   |CHEM|10:00AM        |10:50        |Environmental Chemistry          |0.5  |null                                            |\n",
      "|271.0|T-Th |McClard    |CHEM          |301                                          |10568.0|F   |CHEM|10:30AM        |11:50        |Analytical Chemistry             |1.0  |null                                            |\n",
      "|271.0|Th   |McClard    |CHEM          |313                                          |10569.0|FL1 |CHEM|01:10PM        |05:00        |Analytical Chemistry             |0.0  |null                                            |\n",
      "|271.0|F    |McClard    |CHEM          |313                                          |10570.0|FL2 |CHEM|01:10PM        |05:00        |Analytical Chemistry             |0.0  |null                                            |\n",
      "|316.0|T    |Ahmadi     |CHEM          |301                                          |20561.0|S   |CHEM|10:30AM        |11:50        |Physical Chemistry Laboratory    |0.5  |null                                            |\n",
      "|324.0|M-W-F|Shusterman |CHEM          |301                                          |20563.0|S   |CHEM|10:00AM        |10:50        |Computational Organic Chem       |0.5  |null                                            |\n",
      "|332.0|M-W-F|Ahmadi     |CHEM          |301                                          |20564.0|S   |CHEM|09:00AM        |09:50        |Statistical Thermodynamics       |1.0  |null                                            |\n",
      "|333.0|M-W-F|Ahmadi     |CHEM          |301                                          |10571.0|F   |CHEM|09:00AM        |09:50        |Quantum Mechanics  and  MolStruct|1.0  |null                                            |\n",
      "|334.0|T-Th |Geselbracht|PSYCH         |103                                          |20565.0|S   |CHEM|09:00AM        |10:20        |Advanced Inorganic Chemistry     |0.5  |null                                            |\n",
      "|343.0|M-W-F|McDougal   |null          |null                                         |10572.0|F   |CHEM|null           |null         |Adv Synth Organic Chemistry      |1.0  | ALERT: data truncated here for web previewing. |\n",
      "+-----+-----+-----------+--------------+---------------------------------------------+-------+----+----+---------------+-------------+---------------------------------+-----+------------------------------------------------+\n",
      "\n"
     ]
    }
   ],
   "source": [
    "df.show(200, False)"
   ]
  },
  {
   "cell_type": "code",
   "execution_count": 6,
   "metadata": {},
   "outputs": [
    {
     "ename": "AnalysisException",
     "evalue": "'Only one generator allowed per select clause but found 4: explode(place.building AS `building`), explode(place.room AS `room`), explode(time.start_time AS `start_time`), explode(time.end_time AS `end_time`);'",
     "output_type": "error",
     "traceback": [
      "\u001b[0;31m---------------------------------------------------------------------------\u001b[0m",
      "\u001b[0;31mPy4JJavaError\u001b[0m                             Traceback (most recent call last)",
      "\u001b[0;32m/usr/local/spark/python/pyspark/sql/utils.py\u001b[0m in \u001b[0;36mdeco\u001b[0;34m(*a, **kw)\u001b[0m\n\u001b[1;32m     62\u001b[0m         \u001b[0;32mtry\u001b[0m\u001b[0;34m:\u001b[0m\u001b[0;34m\u001b[0m\u001b[0;34m\u001b[0m\u001b[0m\n\u001b[0;32m---> 63\u001b[0;31m             \u001b[0;32mreturn\u001b[0m \u001b[0mf\u001b[0m\u001b[0;34m(\u001b[0m\u001b[0;34m*\u001b[0m\u001b[0ma\u001b[0m\u001b[0;34m,\u001b[0m \u001b[0;34m**\u001b[0m\u001b[0mkw\u001b[0m\u001b[0;34m)\u001b[0m\u001b[0;34m\u001b[0m\u001b[0;34m\u001b[0m\u001b[0m\n\u001b[0m\u001b[1;32m     64\u001b[0m         \u001b[0;32mexcept\u001b[0m \u001b[0mpy4j\u001b[0m\u001b[0;34m.\u001b[0m\u001b[0mprotocol\u001b[0m\u001b[0;34m.\u001b[0m\u001b[0mPy4JJavaError\u001b[0m \u001b[0;32mas\u001b[0m \u001b[0me\u001b[0m\u001b[0;34m:\u001b[0m\u001b[0;34m\u001b[0m\u001b[0;34m\u001b[0m\u001b[0m\n",
      "\u001b[0;32m/usr/local/spark/python/lib/py4j-0.10.7-src.zip/py4j/protocol.py\u001b[0m in \u001b[0;36mget_return_value\u001b[0;34m(answer, gateway_client, target_id, name)\u001b[0m\n\u001b[1;32m    327\u001b[0m                     \u001b[0;34m\"An error occurred while calling {0}{1}{2}.\\n\"\u001b[0m\u001b[0;34m.\u001b[0m\u001b[0;34m\u001b[0m\u001b[0;34m\u001b[0m\u001b[0m\n\u001b[0;32m--> 328\u001b[0;31m                     format(target_id, \".\", name), value)\n\u001b[0m\u001b[1;32m    329\u001b[0m             \u001b[0;32melse\u001b[0m\u001b[0;34m:\u001b[0m\u001b[0;34m\u001b[0m\u001b[0;34m\u001b[0m\u001b[0m\n",
      "\u001b[0;31mPy4JJavaError\u001b[0m: An error occurred while calling o33.select.\n: org.apache.spark.sql.AnalysisException: Only one generator allowed per select clause but found 4: explode(place.building AS `building`), explode(place.room AS `room`), explode(time.start_time AS `start_time`), explode(time.end_time AS `end_time`);\n\tat org.apache.spark.sql.catalyst.analysis.Analyzer$ExtractGenerator$$anonfun$apply$23.applyOrElse(Analyzer.scala:1723)\n\tat org.apache.spark.sql.catalyst.analysis.Analyzer$ExtractGenerator$$anonfun$apply$23.applyOrElse(Analyzer.scala:1715)\n\tat org.apache.spark.sql.catalyst.plans.logical.AnalysisHelper$$anonfun$resolveOperatorsUp$1$$anonfun$apply$1.apply(AnalysisHelper.scala:90)\n\tat org.apache.spark.sql.catalyst.plans.logical.AnalysisHelper$$anonfun$resolveOperatorsUp$1$$anonfun$apply$1.apply(AnalysisHelper.scala:90)\n\tat org.apache.spark.sql.catalyst.trees.CurrentOrigin$.withOrigin(TreeNode.scala:69)\n\tat org.apache.spark.sql.catalyst.plans.logical.AnalysisHelper$$anonfun$resolveOperatorsUp$1.apply(AnalysisHelper.scala:89)\n\tat org.apache.spark.sql.catalyst.plans.logical.AnalysisHelper$$anonfun$resolveOperatorsUp$1.apply(AnalysisHelper.scala:86)\n\tat org.apache.spark.sql.catalyst.plans.logical.AnalysisHelper$.allowInvokingTransformsInAnalyzer(AnalysisHelper.scala:194)\n\tat org.apache.spark.sql.catalyst.plans.logical.AnalysisHelper$class.resolveOperatorsUp(AnalysisHelper.scala:86)\n\tat org.apache.spark.sql.catalyst.plans.logical.LogicalPlan.resolveOperatorsUp(LogicalPlan.scala:29)\n\tat org.apache.spark.sql.catalyst.analysis.Analyzer$ExtractGenerator$.apply(Analyzer.scala:1715)\n\tat org.apache.spark.sql.catalyst.analysis.Analyzer$ExtractGenerator$.apply(Analyzer.scala:1678)\n\tat org.apache.spark.sql.catalyst.rules.RuleExecutor$$anonfun$execute$1$$anonfun$apply$1.apply(RuleExecutor.scala:87)\n\tat org.apache.spark.sql.catalyst.rules.RuleExecutor$$anonfun$execute$1$$anonfun$apply$1.apply(RuleExecutor.scala:84)\n\tat scala.collection.LinearSeqOptimized$class.foldLeft(LinearSeqOptimized.scala:124)\n\tat scala.collection.immutable.List.foldLeft(List.scala:84)\n\tat org.apache.spark.sql.catalyst.rules.RuleExecutor$$anonfun$execute$1.apply(RuleExecutor.scala:84)\n\tat org.apache.spark.sql.catalyst.rules.RuleExecutor$$anonfun$execute$1.apply(RuleExecutor.scala:76)\n\tat scala.collection.immutable.List.foreach(List.scala:392)\n\tat org.apache.spark.sql.catalyst.rules.RuleExecutor.execute(RuleExecutor.scala:76)\n\tat org.apache.spark.sql.catalyst.analysis.Analyzer.org$apache$spark$sql$catalyst$analysis$Analyzer$$executeSameContext(Analyzer.scala:127)\n\tat org.apache.spark.sql.catalyst.analysis.Analyzer.execute(Analyzer.scala:121)\n\tat org.apache.spark.sql.catalyst.analysis.Analyzer$$anonfun$executeAndCheck$1.apply(Analyzer.scala:106)\n\tat org.apache.spark.sql.catalyst.analysis.Analyzer$$anonfun$executeAndCheck$1.apply(Analyzer.scala:105)\n\tat org.apache.spark.sql.catalyst.plans.logical.AnalysisHelper$.markInAnalyzer(AnalysisHelper.scala:201)\n\tat org.apache.spark.sql.catalyst.analysis.Analyzer.executeAndCheck(Analyzer.scala:105)\n\tat org.apache.spark.sql.execution.QueryExecution.analyzed$lzycompute(QueryExecution.scala:58)\n\tat org.apache.spark.sql.execution.QueryExecution.analyzed(QueryExecution.scala:56)\n\tat org.apache.spark.sql.execution.QueryExecution.assertAnalyzed(QueryExecution.scala:48)\n\tat org.apache.spark.sql.Dataset$.ofRows(Dataset.scala:78)\n\tat org.apache.spark.sql.Dataset.org$apache$spark$sql$Dataset$$withPlan(Dataset.scala:3412)\n\tat org.apache.spark.sql.Dataset.select(Dataset.scala:1340)\n\tat sun.reflect.NativeMethodAccessorImpl.invoke0(Native Method)\n\tat sun.reflect.NativeMethodAccessorImpl.invoke(NativeMethodAccessorImpl.java:62)\n\tat sun.reflect.DelegatingMethodAccessorImpl.invoke(DelegatingMethodAccessorImpl.java:43)\n\tat java.lang.reflect.Method.invoke(Method.java:498)\n\tat py4j.reflection.MethodInvoker.invoke(MethodInvoker.java:244)\n\tat py4j.reflection.ReflectionEngine.invoke(ReflectionEngine.java:357)\n\tat py4j.Gateway.invoke(Gateway.java:282)\n\tat py4j.commands.AbstractCommand.invokeMethod(AbstractCommand.java:132)\n\tat py4j.commands.CallCommand.execute(CallCommand.java:79)\n\tat py4j.GatewayConnection.run(GatewayConnection.java:238)\n\tat java.lang.Thread.run(Thread.java:748)\n",
      "\nDuring handling of the above exception, another exception occurred:\n",
      "\u001b[0;31mAnalysisException\u001b[0m                         Traceback (most recent call last)",
      "\u001b[0;32m<ipython-input-6-f8ad643683a0>\u001b[0m in \u001b[0;36m<module>\u001b[0;34m\u001b[0m\n\u001b[1;32m     12\u001b[0m \u001b[0;34m,\u001b[0m\u001b[0mcol\u001b[0m\u001b[0;34m(\u001b[0m\u001b[0;34m\"title\"\u001b[0m\u001b[0;34m)\u001b[0m\u001b[0;34m\u001b[0m\u001b[0;34m\u001b[0m\u001b[0m\n\u001b[1;32m     13\u001b[0m \u001b[0;34m,\u001b[0m\u001b[0mcol\u001b[0m\u001b[0;34m(\u001b[0m\u001b[0;34m\"units\"\u001b[0m\u001b[0;34m)\u001b[0m\u001b[0;34m\u001b[0m\u001b[0;34m\u001b[0m\u001b[0m\n\u001b[0;32m---> 14\u001b[0;31m \u001b[0;34m,\u001b[0m\u001b[0mcol\u001b[0m\u001b[0;34m(\u001b[0m\u001b[0;34m\"xml_repository\"\u001b[0m\u001b[0;34m)\u001b[0m\u001b[0;34m\u001b[0m\u001b[0;34m\u001b[0m\u001b[0m\n\u001b[0m\u001b[1;32m     15\u001b[0m )\n",
      "\u001b[0;32m/usr/local/spark/python/pyspark/sql/dataframe.py\u001b[0m in \u001b[0;36mselect\u001b[0;34m(self, *cols)\u001b[0m\n\u001b[1;32m   1322\u001b[0m         \u001b[0;34m[\u001b[0m\u001b[0mRow\u001b[0m\u001b[0;34m(\u001b[0m\u001b[0mname\u001b[0m\u001b[0;34m=\u001b[0m\u001b[0;34mu'Alice'\u001b[0m\u001b[0;34m,\u001b[0m \u001b[0mage\u001b[0m\u001b[0;34m=\u001b[0m\u001b[0;36m12\u001b[0m\u001b[0;34m)\u001b[0m\u001b[0;34m,\u001b[0m \u001b[0mRow\u001b[0m\u001b[0;34m(\u001b[0m\u001b[0mname\u001b[0m\u001b[0;34m=\u001b[0m\u001b[0;34mu'Bob'\u001b[0m\u001b[0;34m,\u001b[0m \u001b[0mage\u001b[0m\u001b[0;34m=\u001b[0m\u001b[0;36m15\u001b[0m\u001b[0;34m)\u001b[0m\u001b[0;34m]\u001b[0m\u001b[0;34m\u001b[0m\u001b[0;34m\u001b[0m\u001b[0m\n\u001b[1;32m   1323\u001b[0m         \"\"\"\n\u001b[0;32m-> 1324\u001b[0;31m         \u001b[0mjdf\u001b[0m \u001b[0;34m=\u001b[0m \u001b[0mself\u001b[0m\u001b[0;34m.\u001b[0m\u001b[0m_jdf\u001b[0m\u001b[0;34m.\u001b[0m\u001b[0mselect\u001b[0m\u001b[0;34m(\u001b[0m\u001b[0mself\u001b[0m\u001b[0;34m.\u001b[0m\u001b[0m_jcols\u001b[0m\u001b[0;34m(\u001b[0m\u001b[0;34m*\u001b[0m\u001b[0mcols\u001b[0m\u001b[0;34m)\u001b[0m\u001b[0;34m)\u001b[0m\u001b[0;34m\u001b[0m\u001b[0;34m\u001b[0m\u001b[0m\n\u001b[0m\u001b[1;32m   1325\u001b[0m         \u001b[0;32mreturn\u001b[0m \u001b[0mDataFrame\u001b[0m\u001b[0;34m(\u001b[0m\u001b[0mjdf\u001b[0m\u001b[0;34m,\u001b[0m \u001b[0mself\u001b[0m\u001b[0;34m.\u001b[0m\u001b[0msql_ctx\u001b[0m\u001b[0;34m)\u001b[0m\u001b[0;34m\u001b[0m\u001b[0;34m\u001b[0m\u001b[0m\n\u001b[1;32m   1326\u001b[0m \u001b[0;34m\u001b[0m\u001b[0m\n",
      "\u001b[0;32m/usr/local/spark/python/lib/py4j-0.10.7-src.zip/py4j/java_gateway.py\u001b[0m in \u001b[0;36m__call__\u001b[0;34m(self, *args)\u001b[0m\n\u001b[1;32m   1255\u001b[0m         \u001b[0manswer\u001b[0m \u001b[0;34m=\u001b[0m \u001b[0mself\u001b[0m\u001b[0;34m.\u001b[0m\u001b[0mgateway_client\u001b[0m\u001b[0;34m.\u001b[0m\u001b[0msend_command\u001b[0m\u001b[0;34m(\u001b[0m\u001b[0mcommand\u001b[0m\u001b[0;34m)\u001b[0m\u001b[0;34m\u001b[0m\u001b[0;34m\u001b[0m\u001b[0m\n\u001b[1;32m   1256\u001b[0m         return_value = get_return_value(\n\u001b[0;32m-> 1257\u001b[0;31m             answer, self.gateway_client, self.target_id, self.name)\n\u001b[0m\u001b[1;32m   1258\u001b[0m \u001b[0;34m\u001b[0m\u001b[0m\n\u001b[1;32m   1259\u001b[0m         \u001b[0;32mfor\u001b[0m \u001b[0mtemp_arg\u001b[0m \u001b[0;32min\u001b[0m \u001b[0mtemp_args\u001b[0m\u001b[0;34m:\u001b[0m\u001b[0;34m\u001b[0m\u001b[0;34m\u001b[0m\u001b[0m\n",
      "\u001b[0;32m/usr/local/spark/python/pyspark/sql/utils.py\u001b[0m in \u001b[0;36mdeco\u001b[0;34m(*a, **kw)\u001b[0m\n\u001b[1;32m     67\u001b[0m                                              e.java_exception.getStackTrace()))\n\u001b[1;32m     68\u001b[0m             \u001b[0;32mif\u001b[0m \u001b[0ms\u001b[0m\u001b[0;34m.\u001b[0m\u001b[0mstartswith\u001b[0m\u001b[0;34m(\u001b[0m\u001b[0;34m'org.apache.spark.sql.AnalysisException: '\u001b[0m\u001b[0;34m)\u001b[0m\u001b[0;34m:\u001b[0m\u001b[0;34m\u001b[0m\u001b[0;34m\u001b[0m\u001b[0m\n\u001b[0;32m---> 69\u001b[0;31m                 \u001b[0;32mraise\u001b[0m \u001b[0mAnalysisException\u001b[0m\u001b[0;34m(\u001b[0m\u001b[0ms\u001b[0m\u001b[0;34m.\u001b[0m\u001b[0msplit\u001b[0m\u001b[0;34m(\u001b[0m\u001b[0;34m': '\u001b[0m\u001b[0;34m,\u001b[0m \u001b[0;36m1\u001b[0m\u001b[0;34m)\u001b[0m\u001b[0;34m[\u001b[0m\u001b[0;36m1\u001b[0m\u001b[0;34m]\u001b[0m\u001b[0;34m,\u001b[0m \u001b[0mstackTrace\u001b[0m\u001b[0;34m)\u001b[0m\u001b[0;34m\u001b[0m\u001b[0;34m\u001b[0m\u001b[0m\n\u001b[0m\u001b[1;32m     70\u001b[0m             \u001b[0;32mif\u001b[0m \u001b[0ms\u001b[0m\u001b[0;34m.\u001b[0m\u001b[0mstartswith\u001b[0m\u001b[0;34m(\u001b[0m\u001b[0;34m'org.apache.spark.sql.catalyst.analysis'\u001b[0m\u001b[0;34m)\u001b[0m\u001b[0;34m:\u001b[0m\u001b[0;34m\u001b[0m\u001b[0;34m\u001b[0m\u001b[0m\n\u001b[1;32m     71\u001b[0m                 \u001b[0;32mraise\u001b[0m \u001b[0mAnalysisException\u001b[0m\u001b[0;34m(\u001b[0m\u001b[0ms\u001b[0m\u001b[0;34m.\u001b[0m\u001b[0msplit\u001b[0m\u001b[0;34m(\u001b[0m\u001b[0;34m': '\u001b[0m\u001b[0;34m,\u001b[0m \u001b[0;36m1\u001b[0m\u001b[0;34m)\u001b[0m\u001b[0;34m[\u001b[0m\u001b[0;36m1\u001b[0m\u001b[0;34m]\u001b[0m\u001b[0;34m,\u001b[0m \u001b[0mstackTrace\u001b[0m\u001b[0;34m)\u001b[0m\u001b[0;34m\u001b[0m\u001b[0;34m\u001b[0m\u001b[0m\n",
      "\u001b[0;31mAnalysisException\u001b[0m: 'Only one generator allowed per select clause but found 4: explode(place.building AS `building`), explode(place.room AS `room`), explode(time.start_time AS `start_time`), explode(time.end_time AS `end_time`);'"
     ]
    }
   ],
   "source": []
  },
  {
   "cell_type": "code",
   "execution_count": null,
   "metadata": {},
   "outputs": [],
   "source": []
  }
 ],
 "metadata": {
  "kernelspec": {
   "display_name": "Python 3",
   "language": "python",
   "name": "python3"
  },
  "language_info": {
   "codemirror_mode": {
    "name": "ipython",
    "version": 3
   },
   "file_extension": ".py",
   "mimetype": "text/x-python",
   "name": "python",
   "nbconvert_exporter": "python",
   "pygments_lexer": "ipython3",
   "version": "3.7.6"
  }
 },
 "nbformat": 4,
 "nbformat_minor": 4
}
