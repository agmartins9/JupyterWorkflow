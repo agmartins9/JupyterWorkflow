{
 "cells": [
  {
   "cell_type": "code",
   "execution_count": 1,
   "metadata": {},
   "outputs": [],
   "source": [
    "from pyspark import SparkContext\n",
    "from pyspark.sql import SQLContext\n",
    "\n",
    "\n",
    "sc = SparkContext('local', 'Spark SQL') \n",
    "spark = SQLContext(sc)"
   ]
  },
  {
   "cell_type": "code",
   "execution_count": 2,
   "metadata": {},
   "outputs": [],
   "source": [
    "from pyspark.sql.functions import explode, col"
   ]
  },
  {
   "cell_type": "code",
   "execution_count": 5,
   "metadata": {},
   "outputs": [],
   "source": [
    "source_df = spark.read.option(\"multiline\", \"true\").json(\"persons.json\")"
   ]
  },
  {
   "cell_type": "code",
   "execution_count": 6,
   "metadata": {},
   "outputs": [
    {
     "name": "stdout",
     "output_type": "stream",
     "text": [
      "root\n",
      " |-- persons: array (nullable = true)\n",
      " |    |-- element: struct (containsNull = true)\n",
      " |    |    |-- age: long (nullable = true)\n",
      " |    |    |-- cars: array (nullable = true)\n",
      " |    |    |    |-- element: struct (containsNull = true)\n",
      " |    |    |    |    |-- models: array (nullable = true)\n",
      " |    |    |    |    |    |-- element: string (containsNull = true)\n",
      " |    |    |    |    |-- name: string (nullable = true)\n",
      " |    |    |-- name: string (nullable = true)\n",
      "\n"
     ]
    }
   ],
   "source": [
    "source_df.printSchema()"
   ]
  },
  {
   "cell_type": "code",
   "execution_count": 11,
   "metadata": {},
   "outputs": [
    {
     "data": {
      "text/plain": [
       "DataFrame[persons: struct<age:bigint,cars:array<struct<models:array<string>,name:string>>,name:string>]"
      ]
     },
     "metadata": {},
     "output_type": "display_data"
    },
    {
     "name": "stdout",
     "output_type": "stream",
     "text": [
      "root\n",
      " |-- persons: struct (nullable = true)\n",
      " |    |-- age: long (nullable = true)\n",
      " |    |-- cars: array (nullable = true)\n",
      " |    |    |-- element: struct (containsNull = true)\n",
      " |    |    |    |-- models: array (nullable = true)\n",
      " |    |    |    |    |-- element: string (containsNull = true)\n",
      " |    |    |    |-- name: string (nullable = true)\n",
      " |    |-- name: string (nullable = true)\n",
      "\n"
     ]
    },
    {
     "data": {
      "text/plain": [
       "DataFrame[persons_name: string, persons_age: bigint, persons_cars_brands: struct<models:array<string>,name:string>, persons_cars_brand: string]"
      ]
     },
     "metadata": {},
     "output_type": "display_data"
    },
    {
     "name": "stdout",
     "output_type": "stream",
     "text": [
      "root\n",
      " |-- persons_name: string (nullable = true)\n",
      " |-- persons_age: long (nullable = true)\n",
      " |-- persons_cars_brands: struct (nullable = true)\n",
      " |    |-- models: array (nullable = true)\n",
      " |    |    |-- element: string (containsNull = true)\n",
      " |    |-- name: string (nullable = true)\n",
      " |-- persons_cars_brand: string (nullable = true)\n",
      "\n"
     ]
    },
    {
     "data": {
      "text/plain": [
       "DataFrame[persons_name: string, persons_age: bigint, persons_cars_brand: string, persons_cars_model: string]"
      ]
     },
     "metadata": {},
     "output_type": "display_data"
    },
    {
     "name": "stdout",
     "output_type": "stream",
     "text": [
      "root\n",
      " |-- persons_name: string (nullable = true)\n",
      " |-- persons_age: long (nullable = true)\n",
      " |-- persons_cars_brand: string (nullable = true)\n",
      " |-- persons_cars_model: string (nullable = true)\n",
      "\n"
     ]
    }
   ],
   "source": [
    "# Explode all persons into different rows\n",
    "persons = source_df.select(explode(\"persons\").alias(\"persons\"))\n",
    "display(persons)\n",
    "persons.printSchema()\n",
    "# Explode all car brands into different rows\n",
    "persons_cars = persons.select(\n",
    "   col(\"persons.name\").alias(\"persons_name\")\n",
    " , col(\"persons.age\").alias(\"persons_age\")\n",
    " , explode(\"persons.cars\").alias(\"persons_cars_brands\")\n",
    " , col(\"persons_cars_brands.name\").alias(\"persons_cars_brand\")\n",
    ")\n",
    "display(persons_cars)\n",
    "persons_cars.printSchema()\n",
    "# Explode all car models into different rows\n",
    "persons_cars_models = persons_cars.select(\n",
    "   col(\"persons_name\")\n",
    " , col(\"persons_age\")\n",
    " , col(\"persons_cars_brand\")\n",
    " , explode(\"persons_cars_brands.models\").alias(\"persons_cars_model\")\n",
    ")\n",
    "display(persons_cars_models)\n",
    "persons_cars_models.printSchema()"
   ]
  },
  {
   "cell_type": "code",
   "execution_count": 9,
   "metadata": {},
   "outputs": [
    {
     "data": {
      "text/plain": [
       "DataFrame[persons_name: string, persons_age: bigint, persons_cars_brand: string, persons_cars_model: string]"
      ]
     },
     "metadata": {},
     "output_type": "display_data"
    }
   ],
   "source": [
    "display(persons_cars_models)"
   ]
  }
 ],
 "metadata": {
  "kernelspec": {
   "display_name": "Python 3",
   "language": "python",
   "name": "python3"
  },
  "language_info": {
   "codemirror_mode": {
    "name": "ipython",
    "version": 3
   },
   "file_extension": ".py",
   "mimetype": "text/x-python",
   "name": "python",
   "nbconvert_exporter": "python",
   "pygments_lexer": "ipython3",
   "version": "3.7.6"
  }
 },
 "nbformat": 4,
 "nbformat_minor": 4
}
